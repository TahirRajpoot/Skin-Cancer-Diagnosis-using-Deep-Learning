{
 "cells": [
  {
   "cell_type": "code",
   "execution_count": 6,
   "metadata": {},
   "outputs": [],
   "source": [
    "import random\n",
    "import os\n",
    "import shutil\n",
    "seed = 1\n",
    "random.seed(seed)\n",
    "\n",
    "directory = \"D:\\\\6th Semester\\\\Computer Vision and Image Processing\\\\Skin Cancer Detection\\\\Dataset3\\\\\"\n",
    "train = directory + \"\\\\Train\\\\\"\n",
    "test = directory + \"\\\\Test\\\\\"\n",
    "validation = directory + \"\\\\Validation\\\\\"\n",
    "\n",
    "# os.makedirs(train+\"melanoma\\\\\")\n",
    "# os.makedirs(train+\"non-melanoma\\\\\")\n",
    "# os.makedirs(test+\"melanoma\\\\\")\n",
    "# os.makedirs(test+\"non-melanoma\\\\\")\n",
    "# os.makedirs(validation+\"melanoma\\\\\")\n",
    "# os.makedirs(validation+\"non-melanoma\\\\\")\n"
   ]
  },
  {
   "cell_type": "code",
   "execution_count": 8,
   "metadata": {},
   "outputs": [
    {
     "name": "stdout",
     "output_type": "stream",
     "text": [
      "Melanoma Count =  1113\n",
      "Non-Melanoma Count =  8902\n"
     ]
    }
   ],
   "source": [
    "test_examples = validation_examples = train_examples = 0\n",
    "melanoma = non_melanoma = 0\n",
    "\n",
    "for line in open(directory+\"\\\\train_labels.csv\").readlines()[1:]:\n",
    "    split_line = line.split(\",\")\n",
    "    img_file = split_line[0]\n",
    "    is_melanoma = split_line[1]\n",
    "\n",
    "    if(int(float(is_melanoma))) == 0:\n",
    "        shutil.copy(\n",
    "            directory + img_file+\".jpg\",\n",
    "            train+\"non-melanoma\\\\\"+img_file+\".jpg\"\n",
    "            \n",
    "            \n",
    "        )\n",
    "        non_melanoma = non_melanoma + 1\n",
    "    elif(int(float(is_melanoma))) == 1:\n",
    "        shutil.copy(\n",
    "            directory + img_file+\".jpg\",\n",
    "            train+\"melanoma\\\\\"+img_file+\".jpg\"\n",
    "            \n",
    "        )\n",
    "        melanoma = melanoma +1\n",
    "print(\"Melanoma Count = \",melanoma)\n",
    "print(\"Non-Melanoma Count = \",non_melanoma)"
   ]
  },
  {
   "cell_type": "code",
   "execution_count": 9,
   "metadata": {},
   "outputs": [
    {
     "name": "stdout",
     "output_type": "stream",
     "text": [
      "Melanoma Count =  21\n",
      "Non-Melanoma Count =  172\n"
     ]
    }
   ],
   "source": [
    "test_examples = validation_examples = train_examples = 0\n",
    "melanoma = non_melanoma = 0\n",
    "\n",
    "for line in open(directory+\"\\\\validation_labels.csv\").readlines()[1:]:\n",
    "    split_line = line.split(\",\")\n",
    "    img_file = split_line[0]\n",
    "    is_melanoma = split_line[1]\n",
    "\n",
    "    if(int(float(is_melanoma))) == 0:\n",
    "        shutil.copy(\n",
    "            directory +\"validation_data\\\\\" +img_file+\".jpg\",\n",
    "            validation+\"non-melanoma\\\\\"+img_file+\".jpg\"\n",
    "            \n",
    "            \n",
    "        )\n",
    "        non_melanoma = non_melanoma + 1\n",
    "    elif(int(float(is_melanoma))) == 1:\n",
    "        shutil.copy(\n",
    "            directory +\"validation_data\\\\\" +img_file+\".jpg\",\n",
    "            validation+\"melanoma\\\\\"+img_file+\".jpg\"\n",
    "            \n",
    "        )\n",
    "        melanoma = melanoma +1\n",
    "print(\"Melanoma Count = \",melanoma)\n",
    "print(\"Non-Melanoma Count = \",non_melanoma)"
   ]
  }
 ],
 "metadata": {
  "kernelspec": {
   "display_name": "Python 3",
   "language": "python",
   "name": "python3"
  },
  "language_info": {
   "codemirror_mode": {
    "name": "ipython",
    "version": 3
   },
   "file_extension": ".py",
   "mimetype": "text/x-python",
   "name": "python",
   "nbconvert_exporter": "python",
   "pygments_lexer": "ipython3",
   "version": "3.12.1"
  }
 },
 "nbformat": 4,
 "nbformat_minor": 2
}
